{
 "cells": [
  {
   "cell_type": "code",
   "execution_count": 1,
   "metadata": {},
   "outputs": [],
   "source": [
    "import pandas as pd\n",
    "import seaborn as sns\n",
    "import matplotlib.pyplot as plt\n",
    "plt.style.use('ggplot')"
   ]
  },
  {
   "attachments": {},
   "cell_type": "markdown",
   "metadata": {},
   "source": [
    "#### 1. Функция, которая будет автоматически подгружать информацию из дополнительного файла groups_add.csv и на основании дополнительных параметров пересчитывать метрики."
   ]
  },
  {
   "cell_type": "code",
   "execution_count": 5,
   "metadata": {},
   "outputs": [],
   "source": [
    "def metrics(url):\n",
    "    \n",
    "    groups = pd.read_csv(f'https://getfile.dokpub.com/yandex/get/https://disk.yandex.ru/d/LIE6fUfbD7belQ', sep=';')\n",
    "    groups_add = pd.read_csv(f'https://getfile.dokpub.com/yandex/get/{url}')\n",
    "    active_studs = pd.read_csv(f'https://getfile.dokpub.com/yandex/get/https://disk.yandex.ru/d/9ExyNormZbelyg')\n",
    "    checks = pd.read_csv(f'https://getfile.dokpub.com/yandex/get/https://disk.yandex.ru/d/H-GJTo5Mx4Ld-g', sep=';')\n",
    "    \n",
    "    # Сделаем датафрейм\n",
    "    df_g = groups.append(groups_add, ignore_index=True).rename(columns={'id':'student_id'})\n",
    "    df_c = active_studs.merge(checks, how='outer', on='student_id').fillna(0)\n",
    "    df = df_c.merge(df_g, how='left', on='student_id').fillna(0).rename(columns={'rev':'Revenue'})\n",
    "    \n",
    "    # Ещё один для расчета метрик\n",
    "    df_1 = df.query('Revenue>0').groupby('grp', as_index=False).sum()\\\n",
    "        .assign(Paying_users=df.query('Revenue>0').groupby('grp', as_index=False).count()['Revenue'])\\\n",
    "        .assign(Total_users=df.groupby('grp', as_index=False).count()['student_id'])\n",
    "    \n",
    "    # Рассчитаем метрики\n",
    "    df_2 = df_1\\\n",
    "        .assign(ARPPU=(df_1['Revenue']/df_1['Paying_users']).round(2))\\\n",
    "        .assign(CR=(df_1['Paying_users']/df_1['Total_users']).round(3))\\\n",
    "        [['grp', 'ARPPU', 'CR']]\n",
    "    return df_2"
   ]
  },
  {
   "cell_type": "code",
   "execution_count": 6,
   "metadata": {},
   "outputs": [
    {
     "name": "stderr",
     "output_type": "stream",
     "text": [
      "C:\\Users\\merabi\\AppData\\Local\\Temp\\ipykernel_7872\\939634678.py:9: FutureWarning: The frame.append method is deprecated and will be removed from pandas in a future version. Use pandas.concat instead.\n",
      "  df_g = groups.append(groups_add, ignore_index=True).rename(columns={'id':'student_id'})\n"
     ]
    },
    {
     "data": {
      "text/html": [
       "<div>\n",
       "<style scoped>\n",
       "    .dataframe tbody tr th:only-of-type {\n",
       "        vertical-align: middle;\n",
       "    }\n",
       "\n",
       "    .dataframe tbody tr th {\n",
       "        vertical-align: top;\n",
       "    }\n",
       "\n",
       "    .dataframe thead th {\n",
       "        text-align: right;\n",
       "    }\n",
       "</style>\n",
       "<table border=\"1\" class=\"dataframe\">\n",
       "  <thead>\n",
       "    <tr style=\"text-align: right;\">\n",
       "      <th></th>\n",
       "      <th>grp</th>\n",
       "      <th>ARPPU</th>\n",
       "      <th>CR</th>\n",
       "    </tr>\n",
       "  </thead>\n",
       "  <tbody>\n",
       "    <tr>\n",
       "      <th>0</th>\n",
       "      <td>A</td>\n",
       "      <td>860.71</td>\n",
       "      <td>0.068</td>\n",
       "    </tr>\n",
       "    <tr>\n",
       "      <th>1</th>\n",
       "      <td>B</td>\n",
       "      <td>1108.82</td>\n",
       "      <td>0.063</td>\n",
       "    </tr>\n",
       "  </tbody>\n",
       "</table>\n",
       "</div>"
      ],
      "text/plain": [
       "  grp    ARPPU     CR\n",
       "0   A   860.71  0.068\n",
       "1   B  1108.82  0.063"
      ]
     },
     "execution_count": 6,
     "metadata": {},
     "output_type": "execute_result"
    }
   ],
   "source": [
    "metrics = metrics('https://disk.yandex.ru/d/qgQpmgvjemOJFw')\n",
    "metrics"
   ]
  },
  {
   "attachments": {},
   "cell_type": "markdown",
   "metadata": {},
   "source": [
    "### 2. Функция, которая будет строить графики по получаемым метрикам."
   ]
  },
  {
   "cell_type": "code",
   "execution_count": 7,
   "metadata": {},
   "outputs": [],
   "source": [
    "def visual(metrics_data):\n",
    "    \n",
    "    fig, ax = plt.subplots(1, 2)\n",
    "    \n",
    "    sns.barplot(ax=ax[1], data = metrics_data, x = 'grp', y = 'ARPPU', color = 'royalblue')\\\n",
    "                .set(xlabel='Groups', ylabel='', title = 'ARPPU')\n",
    "    sns.barplot(ax=ax[0], data = metrics_data, x = 'grp', y = 'CR', color = 'royalblue')\\\n",
    "                .set(xlabel='Groups', ylabel='', title = 'CR')\n",
    "    sns.despine()"
   ]
  },
  {
   "cell_type": "code",
   "execution_count": 8,
   "metadata": {},
   "outputs": [
    {
     "data": {
      "image/png": "[encoded data removed]",
      "text/plain": [
       "<Figure size 640x480 with 2 Axes>"
      ]
     },
     "metadata": {},
     "output_type": "display_data"
    }
   ],
   "source": [
    "visual(metrics)"
   ]
  },
  {
   "cell_type": "code",
   "execution_count": null,
   "metadata": {},
   "outputs": [],
   "source": []
  }
 ],
 "metadata": {
  "kernelspec": {
   "display_name": "base",
   "language": "python",
   "name": "python3"
  },
  "language_info": {
   "codemirror_mode": {
    "name": "ipython",
    "version": 3
   },
   "file_extension": ".py",
   "mimetype": "text/x-python",
   "name": "python",
   "nbconvert_exporter": "python",
   "pygments_lexer": "ipython3",
   "version": "3.10.8"
  },
  "orig_nbformat": 4,
  "vscode": {
   "interpreter": {
    "hash": "bc038f49922869149b65b4598415aebf52596316e5de8512e1ce1680ba125e28"
   }
  }
 },
 "nbformat": 4,
 "nbformat_minor": 2
}
